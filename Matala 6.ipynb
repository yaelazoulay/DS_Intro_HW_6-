{
 "cells": [
  {
   "cell_type": "code",
   "execution_count": 13,
   "id": "f0c98d3e",
   "metadata": {},
   "outputs": [
    {
     "name": "stdout",
     "output_type": "stream",
     "text": [
      "    Unnamed: 0       city      country  \\\n",
      "0            0    Antalya       Turkey   \n",
      "1            1     Athens       Greece   \n",
      "2            2  Ayia-napa       Cyprus   \n",
      "3            3    Bangkok     Thailand   \n",
      "4            4  Barcelona        Spain   \n",
      "..         ...        ...          ...   \n",
      "71          71     Venice        Italy   \n",
      "72          72     Vienna      Austria   \n",
      "73          73     Warsaw       Poland   \n",
      "74          74  Zakynthos       Greece   \n",
      "75          75     Zurich  Switzerland   \n",
      "\n",
      "                                          Description  \n",
      "0   Once seen simply as the gateway to the Turkish...  \n",
      "1   With equal measures of grunge and grace, Athen...  \n",
      "2   Endless blue-sky days and a coastline riddled ...  \n",
      "3   Same same, but different. This Thailish T-shir...  \n",
      "4   Barcelona is an enchanting seaside city with b...  \n",
      "..                                                ...  \n",
      "71  Imagine the audacity of building a city of mar...  \n",
      "72  Baroque streetscapes and imperial palaces set ...  \n",
      "73  A phoenix arisen from the ashes, Poland's capi...  \n",
      "74  Zakynthos, also known by its Italian name Zant...  \n",
      "75  Culturally vibrant, efficiently run and attrac...  \n",
      "\n",
      "[76 rows x 4 columns]\n"
     ]
    }
   ],
   "source": [
    "import pandas as pd\n",
    "import numpy as np\n",
    "data = pd.read_csv(\"C:\\\\Users\\\\aviel\\\\Python\\\\Homework\\\\ex3_text.txtLP_destinations.csv',index=False\")\n",
    "print(data)\n",
    "\n"
   ]
  },
  {
   "cell_type": "code",
   "execution_count": 14,
   "id": "c2e3fead",
   "metadata": {},
   "outputs": [
    {
     "name": "stdout",
     "output_type": "stream",
     "text": [
      "    Unnamed: 0       city      country  \\\n",
      "0            0    Antalya       Turkey   \n",
      "1            1     Athens       Greece   \n",
      "2            2  Ayia-napa       Cyprus   \n",
      "3            3    Bangkok     Thailand   \n",
      "4            4  Barcelona        Spain   \n",
      "..         ...        ...          ...   \n",
      "71          71     Venice        Italy   \n",
      "72          72     Vienna      Austria   \n",
      "73          73     Warsaw       Poland   \n",
      "74          74  Zakynthos       Greece   \n",
      "75          75     Zurich  Switzerland   \n",
      "\n",
      "                                          Description  num_of_words  \n",
      "0   Once seen simply as the gateway to the Turkish...           112  \n",
      "1   With equal measures of grunge and grace, Athen...           393  \n",
      "2   Endless blue-sky days and a coastline riddled ...           147  \n",
      "3   Same same, but different. This Thailish T-shir...           398  \n",
      "4   Barcelona is an enchanting seaside city with b...           427  \n",
      "..                                                ...           ...  \n",
      "71  Imagine the audacity of building a city of mar...           420  \n",
      "72  Baroque streetscapes and imperial palaces set ...           418  \n",
      "73  A phoenix arisen from the ashes, Poland's capi...           406  \n",
      "74  Zakynthos, also known by its Italian name Zant...           118  \n",
      "75  Culturally vibrant, efficiently run and attrac...           119  \n",
      "\n",
      "[76 rows x 5 columns]\n"
     ]
    }
   ],
   "source": [
    "#1\n",
    "\n",
    "L = list()\n",
    "for i in data['Description']:\n",
    "    words =  i.split()\n",
    "    count_of_words = len(words) \n",
    "    L.append(count_of_words)\n",
    "    \n",
    "data['num_of_words'] = L   \n",
    "print(data)    \n",
    "    "
   ]
  },
  {
   "cell_type": "code",
   "execution_count": 15,
   "id": "4cfd7a0b",
   "metadata": {},
   "outputs": [
    {
     "name": "stdout",
     "output_type": "stream",
     "text": [
      "    Unnamed: 0       city      country  \\\n",
      "0            0    Antalya       Turkey   \n",
      "1            1     Athens       Greece   \n",
      "2            2  Ayia-napa       Cyprus   \n",
      "3            3    Bangkok     Thailand   \n",
      "4            4  Barcelona        Spain   \n",
      "..         ...        ...          ...   \n",
      "71          71     Venice        Italy   \n",
      "72          72     Vienna      Austria   \n",
      "73          73     Warsaw       Poland   \n",
      "74          74  Zakynthos       Greece   \n",
      "75          75     Zurich  Switzerland   \n",
      "\n",
      "                                          Description  num_of_words  \\\n",
      "0   Once seen simply as the gateway to the Turkish...           112   \n",
      "1   With equal measures of grunge and grace, Athen...           393   \n",
      "2   Endless blue-sky days and a coastline riddled ...           147   \n",
      "3   Same same, but different. This Thailish T-shir...           398   \n",
      "4   Barcelona is an enchanting seaside city with b...           427   \n",
      "..                                                ...           ...   \n",
      "71  Imagine the audacity of building a city of mar...           420   \n",
      "72  Baroque streetscapes and imperial palaces set ...           418   \n",
      "73  A phoenix arisen from the ashes, Poland's capi...           406   \n",
      "74  Zakynthos, also known by its Italian name Zant...           118   \n",
      "75  Culturally vibrant, efficiently run and attrac...           119   \n",
      "\n",
      "                                 No_punct_description  \n",
      "0   Once seen simply as the gateway to the Turkish...  \n",
      "1   With equal measures of grunge and grace  Athen...  \n",
      "2   Endless blue sky days and a coastline riddled ...  \n",
      "3   Same same  but different  This Thailish T shir...  \n",
      "4   Barcelona is an enchanting seaside city with b...  \n",
      "..                                                ...  \n",
      "71  Imagine the audacity of building a city of mar...  \n",
      "72  Baroque streetscapes and imperial palaces set ...  \n",
      "73  A phoenix arisen from the ashes  Poland s capi...  \n",
      "74  Zakynthos  also known by its Italian name Zant...  \n",
      "75  Culturally vibrant  efficiently run and attrac...  \n",
      "\n",
      "[76 rows x 6 columns]\n"
     ]
    }
   ],
   "source": [
    "\n",
    "#2\n",
    "\n",
    "import re\n",
    "\n",
    "def no_punctuation(text):\n",
    "    text = re.sub(r'[^\\w\\s]',' ',text)\n",
    "    text = text.replace(\"\\n\", \" \")\n",
    "    return text\n",
    "    \n",
    "data[\"No_punct_description\"] = data[\"Description\"].apply(no_punctuation)\n",
    "\n",
    " \n",
    "print(data)"
   ]
  },
  {
   "cell_type": "code",
   "execution_count": 16,
   "id": "79433c29",
   "metadata": {},
   "outputs": [
    {
     "name": "stdout",
     "output_type": "stream",
     "text": [
      "    Unnamed: 0       city      country  \\\n",
      "0            0    Antalya       Turkey   \n",
      "1            1     Athens       Greece   \n",
      "2            2  Ayia-napa       Cyprus   \n",
      "3            3    Bangkok     Thailand   \n",
      "4            4  Barcelona        Spain   \n",
      "..         ...        ...          ...   \n",
      "71          71     Venice        Italy   \n",
      "72          72     Vienna      Austria   \n",
      "73          73     Warsaw       Poland   \n",
      "74          74  Zakynthos       Greece   \n",
      "75          75     Zurich  Switzerland   \n",
      "\n",
      "                                          Description  num_of_words  \\\n",
      "0   Once seen simply as the gateway to the Turkish...           112   \n",
      "1   With equal measures of grunge and grace, Athen...           393   \n",
      "2   Endless blue-sky days and a coastline riddled ...           147   \n",
      "3   Same same, but different. This Thailish T-shir...           398   \n",
      "4   Barcelona is an enchanting seaside city with b...           427   \n",
      "..                                                ...           ...   \n",
      "71  Imagine the audacity of building a city of mar...           420   \n",
      "72  Baroque streetscapes and imperial palaces set ...           418   \n",
      "73  A phoenix arisen from the ashes, Poland's capi...           406   \n",
      "74  Zakynthos, also known by its Italian name Zant...           118   \n",
      "75  Culturally vibrant, efficiently run and attrac...           119   \n",
      "\n",
      "                                 No_punct_description  has_restaurants  \n",
      "0   Once seen simply as the gateway to the Turkish...                0  \n",
      "1   With equal measures of grunge and grace  Athen...                1  \n",
      "2   Endless blue sky days and a coastline riddled ...                0  \n",
      "3   Same same  but different  This Thailish T shir...                0  \n",
      "4   Barcelona is an enchanting seaside city with b...                0  \n",
      "..                                                ...              ...  \n",
      "71  Imagine the audacity of building a city of mar...                0  \n",
      "72  Baroque streetscapes and imperial palaces set ...                0  \n",
      "73  A phoenix arisen from the ashes  Poland s capi...                0  \n",
      "74  Zakynthos  also known by its Italian name Zant...                0  \n",
      "75  Culturally vibrant  efficiently run and attrac...                0  \n",
      "\n",
      "[76 rows x 7 columns]\n"
     ]
    }
   ],
   "source": [
    "\n",
    "#3\n",
    "\n",
    "L3 = list()\n",
    "restaurant = 0\n",
    "for i in data[\"Description\"]:\n",
    "    words = i.split()\n",
    "    for j in words:\n",
    "        if j == 'restaurant':\n",
    "           restaurant = restaurant +1 \n",
    "    L3.append(restaurant)\n",
    "    restaurant = 0\n",
    "    \n",
    "data[\"has_restaurants\"] = L3\n",
    "print(data)\n"
   ]
  },
  {
   "cell_type": "code",
   "execution_count": 17,
   "id": "52a88631",
   "metadata": {},
   "outputs": [
    {
     "name": "stdout",
     "output_type": "stream",
     "text": [
      "    Unnamed: 0       city      country  \\\n",
      "0            0    Antalya       Turkey   \n",
      "1            1     Athens       Greece   \n",
      "2            2  Ayia-napa       Cyprus   \n",
      "3            3    Bangkok     Thailand   \n",
      "4            4  Barcelona        Spain   \n",
      "..         ...        ...          ...   \n",
      "71          71     Venice        Italy   \n",
      "72          72     Vienna      Austria   \n",
      "73          73     Warsaw       Poland   \n",
      "74          74  Zakynthos       Greece   \n",
      "75          75     Zurich  Switzerland   \n",
      "\n",
      "                                          Description  num_of_words  \\\n",
      "0   Once seen simply as the gateway to the Turkish...           112   \n",
      "1   With equal measures of grunge and grace, Athen...           393   \n",
      "2   Endless blue-sky days and a coastline riddled ...           147   \n",
      "3   Same same, but different. This Thailish T-shir...           398   \n",
      "4   Barcelona is an enchanting seaside city with b...           427   \n",
      "..                                                ...           ...   \n",
      "71  Imagine the audacity of building a city of mar...           420   \n",
      "72  Baroque streetscapes and imperial palaces set ...           418   \n",
      "73  A phoenix arisen from the ashes, Poland's capi...           406   \n",
      "74  Zakynthos, also known by its Italian name Zant...           118   \n",
      "75  Culturally vibrant, efficiently run and attrac...           119   \n",
      "\n",
      "                                 No_punct_description  has_restaurants  \\\n",
      "0   Once seen simply as the gateway to the Turkish...                0   \n",
      "1   With equal measures of grunge and grace  Athen...                1   \n",
      "2   Endless blue sky days and a coastline riddled ...                0   \n",
      "3   Same same  but different  This Thailish T shir...                0   \n",
      "4   Barcelona is an enchanting seaside city with b...                0   \n",
      "..                                                ...              ...   \n",
      "71  Imagine the audacity of building a city of mar...                0   \n",
      "72  Baroque streetscapes and imperial palaces set ...                0   \n",
      "73  A phoenix arisen from the ashes  Poland s capi...                0   \n",
      "74  Zakynthos  also known by its Italian name Zant...                0   \n",
      "75  Culturally vibrant  efficiently run and attrac...                0   \n",
      "\n",
      "    has_museums  \n",
      "0             0  \n",
      "1             0  \n",
      "2             0  \n",
      "3             0  \n",
      "4             0  \n",
      "..          ...  \n",
      "71            0  \n",
      "72            0  \n",
      "73            0  \n",
      "74            0  \n",
      "75            0  \n",
      "\n",
      "[76 rows x 8 columns]\n"
     ]
    }
   ],
   "source": [
    "#4\n",
    "\n",
    "L4 = list()\n",
    "museum = 0\n",
    "for i in data[\"Description\"]:\n",
    "    words = i.split()\n",
    "    for j in words:\n",
    "        if j == 'museum':\n",
    "           museum = restaurant +1 \n",
    "    L4.append(restaurant)\n",
    "    restaurant = 0\n",
    "    \n",
    "data[\"has_museums\"] = L4\n",
    "print(data)\n",
    "\n"
   ]
  },
  {
   "cell_type": "code",
   "execution_count": 18,
   "id": "9a62fb42",
   "metadata": {},
   "outputs": [
    {
     "name": "stdout",
     "output_type": "stream",
     "text": [
      "    Unnamed: 0       city      country  \\\n",
      "0            0    Antalya       Turkey   \n",
      "1            1     Athens       Greece   \n",
      "2            2  Ayia-napa       Cyprus   \n",
      "3            3    Bangkok     Thailand   \n",
      "4            4  Barcelona        Spain   \n",
      "..         ...        ...          ...   \n",
      "71          71     Venice        Italy   \n",
      "72          72     Vienna      Austria   \n",
      "73          73     Warsaw       Poland   \n",
      "74          74  Zakynthos       Greece   \n",
      "75          75     Zurich  Switzerland   \n",
      "\n",
      "                                          Description  num_of_words  \\\n",
      "0   Once seen simply as the gateway to the Turkish...           112   \n",
      "1   With equal measures of grunge and grace, Athen...           393   \n",
      "2   Endless blue-sky days and a coastline riddled ...           147   \n",
      "3   Same same, but different. This Thailish T-shir...           398   \n",
      "4   Barcelona is an enchanting seaside city with b...           427   \n",
      "..                                                ...           ...   \n",
      "71  Imagine the audacity of building a city of mar...           420   \n",
      "72  Baroque streetscapes and imperial palaces set ...           418   \n",
      "73  A phoenix arisen from the ashes, Poland's capi...           406   \n",
      "74  Zakynthos, also known by its Italian name Zant...           118   \n",
      "75  Culturally vibrant, efficiently run and attrac...           119   \n",
      "\n",
      "                                 No_punct_description  has_restaurants  \\\n",
      "0   Once seen simply as the gateway to the Turkish...                0   \n",
      "1   With equal measures of grunge and grace  Athen...                1   \n",
      "2   Endless blue sky days and a coastline riddled ...                0   \n",
      "3   Same same  but different  This Thailish T shir...                0   \n",
      "4   Barcelona is an enchanting seaside city with b...                0   \n",
      "..                                                ...              ...   \n",
      "71  Imagine the audacity of building a city of mar...                0   \n",
      "72  Baroque streetscapes and imperial palaces set ...                0   \n",
      "73  A phoenix arisen from the ashes  Poland s capi...                0   \n",
      "74  Zakynthos  also known by its Italian name Zant...                0   \n",
      "75  Culturally vibrant  efficiently run and attrac...                0   \n",
      "\n",
      "    has_museums  has_beaches  \n",
      "0             0            0  \n",
      "1             0            0  \n",
      "2             0            1  \n",
      "3             0            0  \n",
      "4             0            1  \n",
      "..          ...          ...  \n",
      "71            0            0  \n",
      "72            0            0  \n",
      "73            0            0  \n",
      "74            0            0  \n",
      "75            0            0  \n",
      "\n",
      "[76 rows x 9 columns]\n"
     ]
    }
   ],
   "source": [
    "L5 = list()\n",
    "sea = 0\n",
    "beach = 0\n",
    "ocean = 0\n",
    "for i in data[\"Description\"]:\n",
    "    words = i.split()\n",
    "    for j in words:\n",
    "        if j == 'sea':\n",
    "           sea = sea +1 \n",
    "        if j == 'beach':\n",
    "           beach = beach +1   \n",
    "        if j == 'ocean':\n",
    "           ocean = ocean +1 \n",
    "    sum = sea+beach+ocean\n",
    "    L5.append(sum)\n",
    "    sea = 0\n",
    "    beach = 0\n",
    "    ocean = 0\n",
    "data[\"has_beaches\"] = L5\n",
    "print(data)\n"
   ]
  },
  {
   "cell_type": "code",
   "execution_count": 19,
   "id": "c74900d1",
   "metadata": {},
   "outputs": [
    {
     "name": "stdout",
     "output_type": "stream",
     "text": [
      "275.38157894736844\n"
     ]
    }
   ],
   "source": [
    "#6\n",
    "\n",
    "count = 0 \n",
    "for i in data['Description']:\n",
    "    words = i.split()\n",
    "    count = count+len(words)\n",
    "print(count/len(data['Description']))"
   ]
  },
  {
   "cell_type": "code",
   "execution_count": 20,
   "id": "cee77bba",
   "metadata": {},
   "outputs": [
    {
     "name": "stdout",
     "output_type": "stream",
     "text": [
      "Florence\n"
     ]
    }
   ],
   "source": [
    "#7\n",
    "\n",
    "max_value = max(data['num_of_words'])\n",
    "index =-1\n",
    "for i in data['num_of_words']:\n",
    "    index =index+1\n",
    "    if i == max_value:\n",
    "        print(data['city'][index])\n"
   ]
  },
  {
   "cell_type": "code",
   "execution_count": 21,
   "id": "888b717c",
   "metadata": {},
   "outputs": [
    {
     "data": {
      "text/plain": [
       "Text(0.5, 0, 'Number of words')"
      ]
     },
     "execution_count": 21,
     "metadata": {},
     "output_type": "execute_result"
    },
    {
     "data": {
      "image/png": "[encoded data removed]",
      "text/plain": [
       "<Figure size 432x288 with 1 Axes>"
      ]
     },
     "metadata": {
      "needs_background": "light"
     },
     "output_type": "display_data"
    }
   ],
   "source": [
    "#8\n",
    "import matplotlib.pyplot as plt\n",
    "\n",
    "plt.hist(data[\"num_of_words\"], bins=30,  color= 'k')\n",
    "plt.xlabel(\"Number of words\")\n",
    "\n",
    "#30"
   ]
  },
  {
   "cell_type": "code",
   "execution_count": 22,
   "id": "237b1ef9",
   "metadata": {},
   "outputs": [
    {
     "data": {
      "image/png": "[encoded data removed]",
      "text/plain": [
       "<Figure size 432x288 with 2 Axes>"
      ]
     },
     "metadata": {
      "needs_background": "light"
     },
     "output_type": "display_data"
    }
   ],
   "source": [
    "\n",
    "#9\n",
    "\n",
    "plt.scatter(data[\"has_beaches\"], data[\"has_restaurants\"])\n",
    "plt.colorbar()\n",
    "plt.title(\" Relationship Num_beaches/Num_restaurants \")\n",
    "plt.xlabel(\"Num_beaches\")\n",
    "plt.ylabel(\"Num_restaurants\")\n",
    "\n",
    "plt.show()\n"
   ]
  },
  {
   "cell_type": "code",
   "execution_count": 23,
   "id": "77eaf594",
   "metadata": {},
   "outputs": [
    {
     "data": {
      "image/png": "[encoded data removed]",
      "text/plain": [
       "<Figure size 432x288 with 1 Axes>"
      ]
     },
     "metadata": {
      "needs_background": "light"
     },
     "output_type": "display_data"
    }
   ],
   "source": [
    "#10\n",
    "\n",
    "plt.scatter(data[\"has_beaches\"], data[\"has_museums\"],color = 'green')\n",
    "plt.xlabel(\"Num_museums\")\n",
    "plt.ylabel(\"Numb_beaches\")\n",
    "plt.title(\"Relationship Num_museums/Numb_beaches \")\n",
    "plt.show()"
   ]
  },
  {
   "cell_type": "code",
   "execution_count": null,
   "id": "5a687edf",
   "metadata": {},
   "outputs": [],
   "source": []
  }
 ],
 "metadata": {
  "kernelspec": {
   "display_name": "Python 3 (ipykernel)",
   "language": "python",
   "name": "python3"
  },
  "language_info": {
   "codemirror_mode": {
    "name": "ipython",
    "version": 3
   },
   "file_extension": ".py",
   "mimetype": "text/x-python",
   "name": "python",
   "nbconvert_exporter": "python",
   "pygments_lexer": "ipython3",
   "version": "3.9.7"
  }
 },
 "nbformat": 4,
 "nbformat_minor": 5
}
